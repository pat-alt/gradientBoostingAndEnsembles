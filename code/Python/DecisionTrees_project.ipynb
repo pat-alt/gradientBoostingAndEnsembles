{
 "cells": [
  {
   "cell_type": "markdown",
   "metadata": {},
   "source": [
    "<img src = \"../../Data/bgsedsc_0.jpg\">"
   ]
  },
  {
   "cell_type": "markdown",
   "metadata": {},
   "source": [
    "# Project: Decision trees"
   ]
  },
  {
   "cell_type": "markdown",
   "metadata": {},
   "source": [
    "## Programming project: length of stay\n",
    "\n",
    "In this project, you have to predict the legnth of stay (in days) of a patient that is entering an ICU (Intensive Care Unit).\n",
    "\n",
    "The dataset comes from MIMIC project (https://mimic.physionet.org/). MIMIC-III (Medical Information Mart for Intensive Care III) is a large, freely-available database comprising deidentified health-related data associated with over forty thousand patients who stayed in critical care units of the Beth Israel Deaconess Medical Center between 2001 and 2012.\n",
    "\n",
    "Each row of *mimic_train.csv* correponds to one ICU stay (*hadm_id*+*icustay_id*) of one patient (*subject_id*). Column *LOS* is the length of stay of this patient, equal to discharge time minus admit time.\n",
    "The remaining columns correspond to vitals of each patient (when entering the ICU), plus some general characteristics (age, gender, etc.), and their explanation can be found at *mimic_patient_metadata.csv*.\n",
    "Please don't use any feature that you infer you don't know the first day of a patient in an ICU.\n",
    "\n",
    "Note that the main cause/disease of patient contidition is embedded as a code at *ICD9_diagnosis* column. The meaning of this code can be found at *MIMIC_metadata_diagnose.csv*. **But** this is only the main one; a patient can have co-occurrent diseases (comorbidities). These secondary codes can be found at *extra_data/MIMIC_diagnoses.csv*.\n",
    "\n",
    "As performance metric, please use *RMSE* (root mean squared error).\n",
    "\n",
    "Main tasks are:\n",
    "+ Using *mimic_train.csv* file build a predictive model for *HOSPITAL_EXPIRE_FLAG* .\n",
    "+ For this analysis there is an extra test dataset, *mimic_test_los.csv*. Apply your final model to this extra dataset and generate predictions following the same format as *mimic_kaggle_los_sample_submission.csv*. Once ready, you can submit to our Kaggle competition and iterate to improve the accuracy.\n",
    "\n",
    "As a *bonus*, try different decision trees algorithms, even combine with other prediction models.  Try to assess which features are more important, and if possible the confidence interval of predictions.\n",
    "\n",
    "You can follow those **steps** in your first implementation:\n",
    "1. *Explore* and understand the dataset. \n",
    "2. Manage missing data.\n",
    "2. Manage categorial features. E.g. create *dummy variables* for relevant categorical features, or build an ad hoc distance function.\n",
    "3. Build a prediction model\n",
    "5. Assess expected accuracy  of previous models using *cross-validation*. \n",
    "6. Predict on the test file, following same preparation steps (missing data, dummies, etc). Remember that you should be able to yield a prediction for all the rows of the test dataset. Submit to Kaggle to check performance.\n",
    "\n",
    "For the in-class assignment, feel free to reduce the training dataset if you experience computational constraints.\n",
    "\n",
    "## Main criteria for grading\n",
    "From more to less important:\n",
    "+ Code runs\n",
    "+ Length of stay for each test patient is computed\n",
    "+ Good Accuracy of predictions for test patients (Kaggle)\n",
    "+ DT methods have been used\n",
    "+ Accuracy itself\n",
    "+ Data preparation\n",
    "+ Hyperparameter optimization\n",
    "+ Neat and understandable code, with some titles and comments\n",
    "+ Improved methods from what we discussed in class (properly explained/justified)"
   ]
  },
  {
   "cell_type": "code",
   "execution_count": null,
   "metadata": {},
   "outputs": [],
   "source": [
    "# Your code here"
   ]
  },
  {
   "cell_type": "code",
   "execution_count": null,
   "metadata": {},
   "outputs": [],
   "source": []
  }
 ],
 "metadata": {
  "kernelspec": {
   "display_name": "Python 3",
   "language": "python",
   "name": "python3"
  },
  "language_info": {
   "codemirror_mode": {
    "name": "ipython",
    "version": 3
   },
   "file_extension": ".py",
   "mimetype": "text/x-python",
   "name": "python",
   "nbconvert_exporter": "python",
   "pygments_lexer": "ipython3",
   "version": "3.7.6"
  },
  "toc": {
   "base_numbering": 1,
   "nav_menu": {},
   "number_sections": true,
   "sideBar": true,
   "skip_h1_title": false,
   "title_cell": "Table of Contents",
   "title_sidebar": "Contents",
   "toc_cell": false,
   "toc_position": {},
   "toc_section_display": true,
   "toc_window_display": true
  }
 },
 "nbformat": 4,
 "nbformat_minor": 2
}
