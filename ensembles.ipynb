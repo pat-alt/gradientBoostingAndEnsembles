{
 "cells": [
  {
   "cell_type": "markdown",
   "metadata": {},
   "source": [
    "<img src = \"../../Data/bgsedsc_0.jpg\">"
   ]
  },
  {
   "cell_type": "markdown",
   "metadata": {},
   "source": [
    "# Project: Ensembles"
   ]
  },
  {
   "cell_type": "code",
   "execution_count": 57,
   "metadata": {},
   "outputs": [],
   "source": [
    "## Set up ----\n",
    "%matplotlib inline\n",
    "import matplotlib.pylab as plt\n",
    "import seaborn as sns\n",
    "\n",
    "import random\n",
    "import time\n",
    "import scipy\n",
    "import datetime\n",
    "import pandas as pd\n",
    "import numpy as np\n",
    "import sklearn\n",
    "import pandas as pd\n",
    "import numpy as np\n",
    "import time\n",
    "\n",
    "from sklearn.impute import SimpleImputer\n",
    "from sklearn.model_selection import GridSearchCV\n",
    "from sklearn.model_selection import StratifiedKFold\n",
    "\n",
    "from sklearn.preprocessing import StandardScaler, OneHotEncoder,  scale\n",
    "import category_encoders as ce\n",
    "from sklearn.compose import make_column_transformer, ColumnTransformer\n",
    "from sklearn.pipeline import Pipeline, make_pipeline\n",
    "\n",
    "# kernel approximators\n",
    "from sklearn.kernel_approximation import Nystroem, RBFSampler\n",
    "\n",
    "from imblearn.under_sampling import RandomUnderSampler\n",
    "from imblearn.over_sampling import RandomOverSampler\n",
    "\n",
    "import gc\n",
    "from sklearn.metrics import accuracy_score\n",
    "from sklearn.metrics import mean_squared_error\n",
    "\n",
    "# Random state\n",
    "rand_state = 1111\n",
    "np.random.seed(rand_state) # impose random seed for reproducibility\n",
    "\n",
    "# Some base models\n",
    "from sklearn.svm import SVR\n",
    "from sklearn.ensemble import RandomForestRegressor, ExtraTreesRegressor\n",
    "from sklearn.neighbors import KNeighborsRegressor\n",
    "from xgboost import XGBRegressor\n",
    "\n",
    "import mlens\n",
    "from mlens.visualization import corrmat\n",
    "from mlens.ensemble import SuperLearner, BlendEnsemble, Subsemble, SequentialEnsemble, TemporalEnsemble\n",
    "\n",
    "# Training dataset\n",
    "data=pd.read_csv('../Data/mimic_train.csv')\n",
    "data_test=pd.read_csv('../Data/mimic_test_los.csv')"
   ]
  },
  {
   "cell_type": "markdown",
   "metadata": {},
   "source": [
    "## Pre-processing\n",
    "\n",
    "I have moved the preprocessing to a separate file as it's quite extensive and this way it's more easily shared across prediction problems. It saves data which I read below in order to not have to run pre-processing each time. If need be, pre-processing can be run by uncommenting the code in the cell below."
   ]
  },
  {
   "cell_type": "code",
   "execution_count": 58,
   "metadata": {},
   "outputs": [],
   "source": [
    "#%run ./preproc.ipynb"
   ]
  },
  {
   "cell_type": "code",
   "execution_count": 59,
   "metadata": {},
   "outputs": [],
   "source": [
    "# Read pre-processed data:\n",
    "y = data.loc[:,'LOS']\n",
    "X = pd.read_csv(\"../Data/los/X_preproc.csv\")\n",
    "X_test = pd.read_csv(\"../Data/los/X_test_preproc.csv\")\n",
    "data = pd.concat([y,X], axis=1)"
   ]
  },
  {
   "cell_type": "code",
   "execution_count": 60,
   "metadata": {},
   "outputs": [
    {
     "name": "stdout",
     "output_type": "stream",
     "text": [
      "(20885, 43)\n",
      "(5221, 43)\n",
      "(20885,)\n"
     ]
    }
   ],
   "source": [
    "# Check:\n",
    "print(X.shape)\n",
    "print(X_test.shape)\n",
    "print(y.shape)"
   ]
  },
  {
   "cell_type": "code",
   "execution_count": 61,
   "metadata": {},
   "outputs": [],
   "source": [
    "# Train test split\n",
    "from sklearn.model_selection import train_test_split\n",
    "\n",
    "X_train, X_test ,y_train, y_test = train_test_split(\n",
    "    np.array(X),\n",
    "    y, \n",
    "    test_size=0.7, random_state=rand_state\n",
    ")\n",
    "\n",
    "target_name = 'LOS'\n",
    "X_train = np.array(X_train)\n",
    "X_test = np.array(X_test)\n",
    "y_train = np.array(y_train)\n",
    "y_test = np.array(y_test)"
   ]
  },
  {
   "cell_type": "markdown",
   "metadata": {},
   "source": [
    "# Prediction"
   ]
  },
  {
   "cell_type": "code",
   "execution_count": 62,
   "metadata": {},
   "outputs": [],
   "source": [
    "def get_models():\n",
    "    #Generate a library of simple learners\n",
    "    svr = SVR(C=100)\n",
    "    knn = KNeighborsRegressor(n_neighbors=3)\n",
    "    rf = RandomForestRegressor(n_estimators=10, max_features=3, random_state=rand_state)\n",
    "    xgb = XGBRegressor(\n",
    "        learning_rate=0.01, \n",
    "        objective='reg:squarederror', \n",
    "        n_estimators=100, \n",
    "        subsample=0.5, \n",
    "        max_depth=6\n",
    "    )\n",
    "    models = {\n",
    "        'svm': svr,\n",
    "        'knn': knn,\n",
    "        'random forest': rf,\n",
    "        'xgb': xgb      \n",
    "    }\n",
    "    return models\n",
    "\n",
    "def train_predict(model_list,X_train=X_train,y_train=y_train,X_test=X_test,y_test=y_test):\n",
    "    #Fit models in list on training set and return preds\n",
    "    P = np.zeros((y_test.shape[0], len(model_list)))\n",
    "    P = pd.DataFrame(P)\n",
    "\n",
    "    cols = list()\n",
    "    for i, (name, m) in enumerate(models.items()):\n",
    "        print(\"%s...\" % name, end=\" \", flush=False)\n",
    "        m.fit(X_train, y_train)\n",
    "        P.iloc[:, i] = m.predict(X_test)\n",
    "        cols.append(name)\n",
    "        print(\"done\")\n",
    "\n",
    "    P.columns = cols\n",
    "    print(\"Done.\\n\")\n",
    "    return P\n",
    "\n",
    "\n",
    "def score_models(P, y):\n",
    "    # Score model in test set\n",
    "    print(\"Scoring models.\")\n",
    "    scores=[]\n",
    "    for m in P.columns:\n",
    "        score = np.sqrt(mean_squared_error(y, P.loc[:, m]))\n",
    "        scores.append(score)\n",
    "        print(\"%-26s: %.3f\" % (m, score))\n",
    "    return P.columns,scores"
   ]
  },
  {
   "cell_type": "code",
   "execution_count": 63,
   "metadata": {},
   "outputs": [
    {
     "name": "stdout",
     "output_type": "stream",
     "text": [
      "svm... done\n",
      "knn... done\n",
      "random forest... done\n",
      "xgb... done\n",
      "Done.\n",
      "\n",
      "Scoring models.\n",
      "svm                       : 4.858\n",
      "knn                       : 5.287\n",
      "random forest             : 5.074\n",
      "xgb                       : 4.929\n"
     ]
    },
    {
     "data": {
      "image/png": "[encoded data removed]",
      "text/plain": [
       "<Figure size 432x288 with 2 Axes>"
      ]
     },
     "metadata": {
      "needs_background": "light"
     },
     "output_type": "display_data"
    }
   ],
   "source": [
    "models = get_models()\n",
    "P = train_predict(models,X_train,y_train,X_test,y_test)\n",
    "my_models,my_scores= score_models(P, y_test)\n",
    "#Plot correlations\n",
    "sns.heatmap(P.corr(), annot=True)\n",
    "plt.show()"
   ]
  },
  {
   "cell_type": "markdown",
   "metadata": {},
   "source": [
    "Initialize a `results` list to store the accuracy scores:"
   ]
  },
  {
   "cell_type": "code",
   "execution_count": 64,
   "metadata": {},
   "outputs": [
    {
     "data": {
      "text/plain": [
       "[('svm', 4.858106141496884),\n",
       " ('knn', 5.287064138896556),\n",
       " ('random forest', 5.074253535622031),\n",
       " ('xgb', 4.929350143535956)]"
      ]
     },
     "execution_count": 64,
     "metadata": {},
     "output_type": "execute_result"
    }
   ],
   "source": [
    "# Save results\n",
    "results=[(model,score) for model,score in zip(my_models,my_scores)]\n",
    "results"
   ]
  },
  {
   "cell_type": "markdown",
   "metadata": {},
   "source": [
    "### Averaging"
   ]
  },
  {
   "cell_type": "markdown",
   "metadata": {},
   "source": [
    "We will begin by simply averaging the predictions and add the resulting score to the results. We actually get quite a bit of improvement here, likely due to the fact that KNN predictions are so different from the others."
   ]
  },
  {
   "cell_type": "code",
   "execution_count": 65,
   "metadata": {},
   "outputs": [
    {
     "name": "stdout",
     "output_type": "stream",
     "text": [
      "Scoring models.\n",
      "Avg                       : 4.763\n"
     ]
    }
   ],
   "source": [
    "# Simple average\n",
    "AvgPred=pd.DataFrame(P.mean(axis=1),columns=['Avg'])\n",
    "my_model_avg,my_scores_avg= score_models(AvgPred, y_test)"
   ]
  },
  {
   "cell_type": "code",
   "execution_count": 66,
   "metadata": {},
   "outputs": [],
   "source": [
    "# Save results\n",
    "results=results+[(model,score) for model,score in zip(my_model_avg,my_scores_avg)]"
   ]
  },
  {
   "cell_type": "markdown",
   "metadata": {},
   "source": [
    "### Stacking"
   ]
  },
  {
   "cell_type": "markdown",
   "metadata": {},
   "source": [
    "Stacking does not lead to much improvement:"
   ]
  },
  {
   "cell_type": "code",
   "execution_count": null,
   "metadata": {},
   "outputs": [
    {
     "name": "stdout",
     "output_type": "stream",
     "text": [
      "\n",
      "Fitting 2 layers\n",
      "Processing layer-1             "
     ]
    }
   ],
   "source": [
    "meta_learner = ExtraTreesRegressor(\n",
    "    n_estimators=20,\n",
    "    bootstrap=True,\n",
    "    max_features=0.7\n",
    ")\n",
    "\n",
    "# Instantiate the ensemble with 5 folds (stacking meta-learner)\n",
    "sl = SuperLearner(\n",
    "    folds=5,\n",
    "    verbose=2,\n",
    "    backend=\"multiprocessing\",\n",
    "    n_jobs=3\n",
    ")\n",
    "\n",
    "# Add the base learners and the meta learner\n",
    "sl.add(list(models.values()))\n",
    "sl.add_meta(meta_learner)\n",
    "\n",
    "# Train the ensemble\n",
    "sl.fit(X_train, y_train)\n",
    "\n",
    "# Predict the test set\n",
    "p_sl = sl.predict(X_test)\n",
    "scoreStackXtres=mean_squared_error(y_test, p_sl[:, 1])\n",
    "print(\"\\nSuper Learner ROC-AUC score: %.3f\" % scoreStackXtres)"
   ]
  },
  {
   "cell_type": "code",
   "execution_count": null,
   "metadata": {},
   "outputs": [],
   "source": [
    "# Save results\n",
    "results=results+[('StackingExtraTrees',scoreStackXtres)]\n",
    "results"
   ]
  },
  {
   "cell_type": "markdown",
   "metadata": {},
   "source": [
    "### Feature propagation"
   ]
  },
  {
   "cell_type": "markdown",
   "metadata": {},
   "source": [
    "Let's try to propagate the most important features (as per the random forest model):"
   ]
  },
  {
   "cell_type": "code",
   "execution_count": 44,
   "metadata": {},
   "outputs": [],
   "source": [
    "n_features = 5\n",
    "rf_features = models['rf'].feature_importances_\n",
    "rf_features_ordered = pd.Series(data=rf_features, index=range(len(rf_features))).sort_values(ascending=False)\n",
    "to_propagate = list(rf_features_ordered[:n_features].index)\n",
    "pointer = to_propagate"
   ]
  },
  {
   "cell_type": "markdown",
   "metadata": {},
   "source": [
    "Evidently this leads to improvement with stacking:"
   ]
  },
  {
   "cell_type": "code",
   "execution_count": 45,
   "metadata": {},
   "outputs": [
    {
     "name": "stdout",
     "output_type": "stream",
     "text": [
      "\n",
      "Fitting 2 layers\n",
      "Processing layer-1             done | 00:00:01\n",
      "Processing layer-2             done | 00:00:00\n",
      "Fit complete                        | 00:00:03\n",
      "\n",
      "Predicting 2 layers\n",
      "Processing layer-1             done | 00:00:00\n",
      "Processing layer-2             done | 00:00:00\n",
      "Predict complete                    | 00:00:02\n",
      "\n",
      "Super Learner 2 ROC-AUC score: 0.705\n"
     ]
    }
   ],
   "source": [
    "sl2 = SuperLearner(\n",
    "    folds=5,\n",
    "    random_state=rand_state,\n",
    "    verbose=2,\n",
    "    backend=\"multiprocessing\",\n",
    "    n_jobs=3\n",
    ")\n",
    "\n",
    "# Add the base learners and the meta learner\n",
    "sl2.add(list(models.values()), proba=True, propagate_features=pointer)\n",
    "sl2.add_meta(meta_learner, proba=True)\n",
    "\n",
    "# Train the ensemble\n",
    "sl2.fit(X_train, y_train)\n",
    "\n",
    "# Predict the test set\n",
    "p_sl2 = sl2.predict_proba(X_test)\n",
    "scoreStackXtres2=mean_squared_error(y_test, p_sl2[:, 1])\n",
    "print(\"\\nSuper Learner 2 ROC-AUC score: %.3f\" % scoreStackXtres2)"
   ]
  },
  {
   "cell_type": "code",
   "execution_count": 46,
   "metadata": {},
   "outputs": [
    {
     "data": {
      "text/plain": [
       "[('knn', 0.6815822366805124),\n",
       " ('logistic', 0.6968223449721356),\n",
       " ('rf', 0.6960534144064976),\n",
       " ('Avg', 0.7172982768313784),\n",
       " ('StackingExtraTrees', 0.679624772800463),\n",
       " ('StackingExtraTrees2', 0.7051598174762158)]"
      ]
     },
     "execution_count": 46,
     "metadata": {},
     "output_type": "execute_result"
    }
   ],
   "source": [
    "# Save results\n",
    "results=results+[('StackingExtraTrees2',scoreStackXtres2)]\n",
    "results"
   ]
  },
  {
   "cell_type": "markdown",
   "metadata": {},
   "source": [
    "### Blending"
   ]
  },
  {
   "cell_type": "code",
   "execution_count": 47,
   "metadata": {},
   "outputs": [
    {
     "name": "stdout",
     "output_type": "stream",
     "text": [
      "\n",
      "Blend ROC-AUC score: 0.679\n"
     ]
    }
   ],
   "source": [
    "bl =  BlendEnsemble(test_size=0.2, random_state=rand_state,n_jobs=3)\n",
    "\n",
    "# Add the base learners and the meta learner\n",
    "bl.add(list(models.values()), proba=True, propagate_features=pointer)\n",
    "bl.add_meta(meta_learner, proba=True)\n",
    "\n",
    "# Train the ensemble\n",
    "bl.fit(X_train, y_train)\n",
    "\n",
    "# Predict the test set\n",
    "p_bl = bl.predict_proba(X_test)\n",
    "scoreBlendXtrees=mean_squared_error(y_test, p_bl[:, 1])\n",
    "print(\"\\nBlend ROC-AUC score: %.3f\" % scoreBlendXtrees)"
   ]
  },
  {
   "cell_type": "code",
   "execution_count": 48,
   "metadata": {},
   "outputs": [
    {
     "data": {
      "text/plain": [
       "[('knn', 0.6815822366805124),\n",
       " ('logistic', 0.6968223449721356),\n",
       " ('rf', 0.6960534144064976),\n",
       " ('Avg', 0.7172982768313784),\n",
       " ('StackingExtraTrees', 0.679624772800463),\n",
       " ('StackingExtraTrees2', 0.7051598174762158),\n",
       " ('BlendXtrees', 0.6790311884241496)]"
      ]
     },
     "execution_count": 48,
     "metadata": {},
     "output_type": "execute_result"
    }
   ],
   "source": [
    "# Save results\n",
    "results=results+[('BlendXtrees',scoreBlendXtrees)]\n",
    "results"
   ]
  },
  {
   "cell_type": "markdown",
   "metadata": {},
   "source": [
    "### Subsemple"
   ]
  },
  {
   "cell_type": "code",
   "execution_count": 49,
   "metadata": {},
   "outputs": [
    {
     "name": "stdout",
     "output_type": "stream",
     "text": [
      "\n",
      "SubSamble ROC-AUC score: 0.721\n"
     ]
    }
   ],
   "source": [
    "from sklearn.cluster import KMeans\n",
    "sub = Subsemble(partitions=3, folds=4,partition_estimator=KMeans(3, random_state=rand_state),\n",
    "               random_state=rand_state)\n",
    "\n",
    "sub.add(list(models.values()), proba=True, propagate_features=pointer)\n",
    "sub.add_meta(meta_learner, proba=True)\n",
    "\n",
    "# Train the ensemble\n",
    "sub.fit(X_train, y_train)\n",
    "\n",
    "# Predict the test set\n",
    "p_sub = sub.predict_proba(X_test)\n",
    "scoreSubS=mean_squared_error(y_test, p_sub[:, 1])\n",
    "print(\"\\nSubSamble ROC-AUC score: %.3f\" % scoreSubS)"
   ]
  },
  {
   "cell_type": "code",
   "execution_count": 50,
   "metadata": {},
   "outputs": [
    {
     "data": {
      "text/plain": [
       "[('knn', 0.6815822366805124),\n",
       " ('logistic', 0.6968223449721356),\n",
       " ('rf', 0.6960534144064976),\n",
       " ('Avg', 0.7172982768313784),\n",
       " ('StackingExtraTrees', 0.679624772800463),\n",
       " ('StackingExtraTrees2', 0.7051598174762158),\n",
       " ('BlendXtrees', 0.6790311884241496),\n",
       " ('SubSambleXtrees', 0.7207758625395041)]"
      ]
     },
     "execution_count": 50,
     "metadata": {},
     "output_type": "execute_result"
    }
   ],
   "source": [
    "# Save results\n",
    "results=results+[('SubSambleXtrees',scoreSubS)]\n",
    "results"
   ]
  },
  {
   "cell_type": "markdown",
   "metadata": {},
   "source": [
    "### Multi-layer"
   ]
  },
  {
   "cell_type": "markdown",
   "metadata": {},
   "source": [
    "Let's define a second meta learner and run a multi-layer ensemble:"
   ]
  },
  {
   "cell_type": "code",
   "execution_count": 51,
   "metadata": {},
   "outputs": [],
   "source": [
    "meta_learner_2 = RandomForestClassifier(n_estimators=10, max_features=3, random_state=rand_state)"
   ]
  },
  {
   "cell_type": "code",
   "execution_count": 52,
   "metadata": {},
   "outputs": [
    {
     "name": "stdout",
     "output_type": "stream",
     "text": [
      "\n",
      "Multi-Ensemble ROC-AUC score: 0.648\n"
     ]
    }
   ],
   "source": [
    "ensemble = SequentialEnsemble(random_state=rand_state)\n",
    "\n",
    "# The initial layer is a blended layer, same as a layer in the BlendEnsemble\n",
    "ensemble.add('blend',\n",
    "             list(models.values()), proba=True, propagate_features=pointer,random_state=rand_state)\n",
    "\n",
    "# The second layer is a stacked layer, same as a layer of the SuperLearner\n",
    "ensemble.add('stack', [meta_learner, meta_learner_2], proba=True,random_state=rand_state)\n",
    "\n",
    "# The third layer is a subsembled layer, same as a layer of the Subsemble\n",
    "ensemble.add('subsemble', [meta_learner, meta_learner_2], proba=True,random_state=rand_state)\n",
    "\n",
    "# The meta estimator is added as in any other ensemble\n",
    "ensemble.add_meta(LogisticRegression(), proba=True)\n",
    "# Train the ensemble\n",
    "ensemble.fit(X_train, y_train)\n",
    "\n",
    "# Predict the test set\n",
    "p_multi = ensemble.predict_proba(X_test)\n",
    "scoreMultiE=mean_squared_error(y_test, p_multi[:, 1])\n",
    "print(\"\\nMulti-Ensemble ROC-AUC score: %.3f\" % scoreMultiE)"
   ]
  },
  {
   "cell_type": "code",
   "execution_count": 53,
   "metadata": {},
   "outputs": [
    {
     "data": {
      "text/plain": [
       "[('knn', 0.6815822366805124),\n",
       " ('logistic', 0.6968223449721356),\n",
       " ('rf', 0.6960534144064976),\n",
       " ('Avg', 0.7172982768313784),\n",
       " ('StackingExtraTrees', 0.679624772800463),\n",
       " ('StackingExtraTrees2', 0.7051598174762158),\n",
       " ('BlendXtrees', 0.6790311884241496),\n",
       " ('SubSambleXtrees', 0.7207758625395041),\n",
       " ('Multi-Layer', 0.647537102434924)]"
      ]
     },
     "execution_count": 53,
     "metadata": {},
     "output_type": "execute_result"
    }
   ],
   "source": [
    "# Save results\n",
    "results=results+[('Multi-Layer',scoreMultiE)]\n",
    "results"
   ]
  },
  {
   "cell_type": "markdown",
   "metadata": {
    "id": "gcxiOd9hTcEo"
   },
   "source": [
    "# Model evaluation with test set\n",
    "\n"
   ]
  },
  {
   "cell_type": "code",
   "execution_count": 54,
   "metadata": {},
   "outputs": [
    {
     "data": {
      "text/html": [
       "<div>\n",
       "<style scoped>\n",
       "    .dataframe tbody tr th:only-of-type {\n",
       "        vertical-align: middle;\n",
       "    }\n",
       "\n",
       "    .dataframe tbody tr th {\n",
       "        vertical-align: top;\n",
       "    }\n",
       "\n",
       "    .dataframe thead th {\n",
       "        text-align: right;\n",
       "    }\n",
       "</style>\n",
       "<table border=\"1\" class=\"dataframe\">\n",
       "  <thead>\n",
       "    <tr style=\"text-align: right;\">\n",
       "      <th></th>\n",
       "      <th>Method</th>\n",
       "      <th>AUC_score</th>\n",
       "    </tr>\n",
       "  </thead>\n",
       "  <tbody>\n",
       "    <tr>\n",
       "      <th>7</th>\n",
       "      <td>SubSambleXtrees</td>\n",
       "      <td>0.720776</td>\n",
       "    </tr>\n",
       "    <tr>\n",
       "      <th>3</th>\n",
       "      <td>Avg</td>\n",
       "      <td>0.717298</td>\n",
       "    </tr>\n",
       "    <tr>\n",
       "      <th>5</th>\n",
       "      <td>StackingExtraTrees2</td>\n",
       "      <td>0.705160</td>\n",
       "    </tr>\n",
       "    <tr>\n",
       "      <th>1</th>\n",
       "      <td>logistic</td>\n",
       "      <td>0.696822</td>\n",
       "    </tr>\n",
       "    <tr>\n",
       "      <th>2</th>\n",
       "      <td>rf</td>\n",
       "      <td>0.696053</td>\n",
       "    </tr>\n",
       "  </tbody>\n",
       "</table>\n",
       "</div>"
      ],
      "text/plain": [
       "                Method  AUC_score\n",
       "7      SubSambleXtrees   0.720776\n",
       "3                  Avg   0.717298\n",
       "5  StackingExtraTrees2   0.705160\n",
       "1             logistic   0.696822\n",
       "2                   rf   0.696053"
      ]
     },
     "execution_count": 54,
     "metadata": {},
     "output_type": "execute_result"
    }
   ],
   "source": [
    "results_df=pd.DataFrame(results)\n",
    "results_df.columns=['Method','AUC_score']\n",
    "results_df= results_df.sort_values(by='AUC_score', ascending=False)\n",
    "results_df.head()"
   ]
  },
  {
   "cell_type": "code",
   "execution_count": 55,
   "metadata": {},
   "outputs": [
    {
     "data": {
      "text/plain": [
       "(0.65, 0.75)"
      ]
     },
     "execution_count": 55,
     "metadata": {},
     "output_type": "execute_result"
    },
    {
     "data": {
      "image/png": "[encoded data removed]",
      "text/plain": [
       "<Figure size 432x288 with 1 Axes>"
      ]
     },
     "metadata": {},
     "output_type": "display_data"
    }
   ],
   "source": [
    "import seaborn as sns\n",
    "import matplotlib.pyplot as plt\n",
    "\n",
    "sns.set(style=\"whitegrid\")\n",
    "ax = sns.barplot(x=\"Method\", y=\"AUC_score\", data=results_df)\n",
    "ax= ax.set_xticklabels(ax.get_xticklabels(), rotation=90)\n",
    "\n",
    "plt.ylim(0.65,0.75)"
   ]
  }
 ],
 "metadata": {
  "kernelspec": {
   "display_name": "Python 3",
   "language": "python",
   "name": "python3"
  },
  "language_info": {
   "codemirror_mode": {
    "name": "ipython",
    "version": 3
   },
   "file_extension": ".py",
   "mimetype": "text/x-python",
   "name": "python",
   "nbconvert_exporter": "python",
   "pygments_lexer": "ipython3",
   "version": "3.8.0"
  },
  "toc": {
   "base_numbering": 1,
   "nav_menu": {},
   "number_sections": true,
   "sideBar": true,
   "skip_h1_title": false,
   "title_cell": "Table of Contents",
   "title_sidebar": "Contents",
   "toc_cell": false,
   "toc_position": {},
   "toc_section_display": true,
   "toc_window_display": true
  }
 },
 "nbformat": 4,
 "nbformat_minor": 4
}
