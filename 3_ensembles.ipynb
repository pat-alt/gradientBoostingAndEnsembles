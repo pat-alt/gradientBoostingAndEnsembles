{
 "cells": [
  {
   "cell_type": "markdown",
   "metadata": {},
   "source": [
    "<img src = \"Data/bgsedsc_0.jpg\">"
   ]
  },
  {
   "cell_type": "code",
   "execution_count": 67,
   "metadata": {},
   "outputs": [],
   "source": [
    "## Set up ----\n",
    "%matplotlib inline\n",
    "import matplotlib.pylab as plt\n",
    "import seaborn as sns\n",
    "\n",
    "import random\n",
    "import time\n",
    "import scipy\n",
    "import datetime\n",
    "import pandas as pd\n",
    "import numpy as np\n",
    "import sklearn\n",
    "import pandas as pd\n",
    "import numpy as np\n",
    "import time\n",
    "\n",
    "from sklearn.impute import SimpleImputer\n",
    "from sklearn.model_selection import GridSearchCV\n",
    "from sklearn.model_selection import StratifiedKFold\n",
    "\n",
    "from sklearn.preprocessing import StandardScaler, OneHotEncoder,  scale\n",
    "import category_encoders as ce\n",
    "from sklearn.compose import make_column_transformer, ColumnTransformer\n",
    "from sklearn.pipeline import Pipeline, make_pipeline\n",
    "\n",
    "# kernel approximators\n",
    "from sklearn.kernel_approximation import Nystroem, RBFSampler\n",
    "\n",
    "from imblearn.under_sampling import RandomUnderSampler\n",
    "from imblearn.over_sampling import RandomOverSampler\n",
    "\n",
    "import gc\n",
    "from sklearn.metrics import accuracy_score\n",
    "from sklearn.metrics import mean_squared_error\n",
    "\n",
    "# Random state\n",
    "rand_state = 1111\n",
    "np.random.seed(rand_state) # impose random seed for reproducibility\n",
    "\n",
    "# Some base models\n",
    "from sklearn.svm import SVR\n",
    "from sklearn.ensemble import RandomForestRegressor, ExtraTreesRegressor\n",
    "from sklearn.linear_model import LinearRegression\n",
    "from sklearn.neighbors import KNeighborsRegressor\n",
    "from xgboost import XGBRegressor\n",
    "from lightgbm import LGBMRegressor\n",
    "\n",
    "import mlens\n",
    "from mlens.visualization import corrmat\n",
    "from mlens.ensemble import SuperLearner, BlendEnsemble, Subsemble, SequentialEnsemble, TemporalEnsemble\n",
    "\n",
    "# Training dataset\n",
    "data=pd.read_csv('../Data/mimic_train.csv')\n",
    "data_test=pd.read_csv('../Data/mimic_test_los.csv')"
   ]
  },
  {
   "cell_type": "markdown",
   "metadata": {},
   "source": [
    "# Ensembles"
   ]
  },
  {
   "cell_type": "markdown",
   "metadata": {},
   "source": [
    "This notebook continues on from the related [notebook](2_decision-trees.ipynb) on decision trees - the main notebook. In this notebook we just ensemble different regression methods to see if we can arraive at improved predictions. On the face of it, in-sample estimates suggest that ensembling should improve predictions. In particular averaging appears to perform a good job. And yet when submitting ensemble predictions to Kaggle I generally got surprisingly bad outcomes. "
   ]
  },
  {
   "cell_type": "markdown",
   "metadata": {},
   "source": [
    "## 1) Pre-processing\n",
    "\n",
    "As discussed in the notebook on decision trees, all preprocessing has been moved into a separate [notebook](1_preproc.ipynb). To run the preprocessing from here simply uncomment and run the below:"
   ]
  },
  {
   "cell_type": "code",
   "execution_count": 68,
   "metadata": {},
   "outputs": [],
   "source": [
    "#%run ./preproc.ipynb"
   ]
  },
  {
   "cell_type": "code",
   "execution_count": 69,
   "metadata": {},
   "outputs": [],
   "source": [
    "# Read pre-processed data:\n",
    "y = data.loc[:,'LOS']\n",
    "X = pd.read_csv(\"../Data/los/X_preproc.csv\")\n",
    "X_test = pd.read_csv(\"../Data/los/X_test_preproc.csv\")\n",
    "data = pd.concat([y,X], axis=1)"
   ]
  },
  {
   "cell_type": "code",
   "execution_count": 70,
   "metadata": {},
   "outputs": [
    {
     "name": "stdout",
     "output_type": "stream",
     "text": [
      "(20885, 36)\n",
      "(5221, 36)\n",
      "(20885,)\n"
     ]
    }
   ],
   "source": [
    "# Check:\n",
    "print(X.shape)\n",
    "print(X_test.shape)\n",
    "print(y.shape)"
   ]
  },
  {
   "cell_type": "code",
   "execution_count": 71,
   "metadata": {},
   "outputs": [],
   "source": [
    "# Train test split\n",
    "from sklearn.model_selection import train_test_split\n",
    "\n",
    "X_train, X_test ,y_train, y_test = train_test_split(\n",
    "    np.array(X),\n",
    "    y, \n",
    "    test_size=0.7, random_state=rand_state\n",
    ")\n",
    "\n",
    "target_name = 'LOS'\n",
    "X_train = np.array(X_train)\n",
    "X_test = np.array(X_test)\n",
    "y_train = np.array(y_train)\n",
    "y_test = np.array(y_test)"
   ]
  },
  {
   "cell_type": "markdown",
   "metadata": {},
   "source": [
    "## 2) Prediction\n",
    "\n",
    "I use a set of basic models including XGBoost and LightGBM. For the latter I use whatever parameter values yielded optimal results for standalone prediction in the decision tree notebook."
   ]
  },
  {
   "cell_type": "code",
   "execution_count": 72,
   "metadata": {},
   "outputs": [],
   "source": [
    "def get_models():\n",
    "    #Generate a library of simple learners\n",
    "    svr = SVR(C=100)\n",
    "    knn = KNeighborsRegressor(n_neighbors=3)\n",
    "    rf = RandomForestRegressor(n_estimators=10, max_features=3, random_state=rand_state)\n",
    "    lr = LinearRegression()\n",
    "    xgb = XGBRegressor(\n",
    "        learning_rate=0.05, \n",
    "        objective='reg:squarederror', \n",
    "        n_estimators=100, \n",
    "        subsample=0.5, \n",
    "        max_depth=6\n",
    "    )\n",
    "    lgbm = LGBMRegressor(\n",
    "        learning_rate=0.05, \n",
    "        n_estimators=100, \n",
    "        subsample=0.8, \n",
    "        max_depth=9,\n",
    "        num_leaves=40\n",
    "    )\n",
    "    models = {\n",
    "        'svm': svr,\n",
    "        'knn': knn,\n",
    "        'random forest': rf,\n",
    "        'linear reg': lr,\n",
    "        'xgb': xgb,\n",
    "        'lgbm': lgbm\n",
    "    }\n",
    "    return models\n",
    "\n",
    "def train_predict(model_list,X_train=X_train,y_train=y_train,X_test=X_test,y_test=y_test):\n",
    "\n",
    "    if y_test is None:\n",
    "        P = np.zeros((X_test.shape[0], len(model_list)))\n",
    "        P = pd.DataFrame(P)\n",
    "    else:\n",
    "        P = np.zeros((y_test.shape[0], len(model_list)))\n",
    "        P = pd.DataFrame(P)\n",
    "\n",
    "    cols = list()\n",
    "    for i, (name, m) in enumerate(models.items()):\n",
    "        print(\"%s...\" % name, end=\" \", flush=False)\n",
    "        m.fit(X_train, y_train)\n",
    "        P.iloc[:, i] = m.predict(X_test)\n",
    "        cols.append(name)\n",
    "        print(\"done\")\n",
    "\n",
    "    P.columns = cols\n",
    "    print(\"Done.\\n\")\n",
    "    return P\n",
    "\n",
    "\n",
    "def score_models(P, y):\n",
    "    # Score model in test set\n",
    "    print(\"Scoring models.\")\n",
    "    scores=[]\n",
    "    for m in P.columns:\n",
    "        score = np.sqrt(mean_squared_error(y, P.loc[:, m]))\n",
    "        scores.append(score)\n",
    "        print(\"%-26s: %.3f\" % (m, score))\n",
    "    return P.columns,scores"
   ]
  },
  {
   "cell_type": "markdown",
   "metadata": {},
   "source": [
    "First let us look at the correlations between the different model predictions. Unsurprisingly, correlation between predictions from XGBoost and LightGBM are highly correlated (though clearly not perfectly correlated, so indeed it makes sense to look consider both approaches.)"
   ]
  },
  {
   "cell_type": "code",
   "execution_count": 73,
   "metadata": {},
   "outputs": [
    {
     "name": "stdout",
     "output_type": "stream",
     "text": [
      "svm... done\n",
      "knn... done\n",
      "random forest... done\n",
      "linear reg... done\n",
      "xgb... done\n",
      "lgbm... done\n",
      "Done.\n",
      "\n",
      "Scoring models.\n",
      "svm                       : 4.792\n",
      "knn                       : 5.302\n",
      "random forest             : 4.996\n",
      "linear reg                : 4.611\n",
      "xgb                       : 4.690\n",
      "lgbm                      : 4.639\n"
     ]
    },
    {
     "data": {
      "image/png": "[encoded data removed]",
      "text/plain": [
       "<Figure size 432x288 with 2 Axes>"
      ]
     },
     "metadata": {
      "needs_background": "light"
     },
     "output_type": "display_data"
    }
   ],
   "source": [
    "models = get_models()\n",
    "P = train_predict(models,X_train,y_train,X_test,y_test)\n",
    "my_models,my_scores= score_models(P, y_test)\n",
    "#Plot correlations\n",
    "sns.heatmap(P.corr(), annot=True)\n",
    "plt.show()"
   ]
  },
  {
   "cell_type": "markdown",
   "metadata": {},
   "source": [
    "Initialize a `results` list to store the accuracy scores:"
   ]
  },
  {
   "cell_type": "code",
   "execution_count": 74,
   "metadata": {},
   "outputs": [
    {
     "data": {
      "text/plain": [
       "[('svm', 4.792223165272498),\n",
       " ('knn', 5.302407696226023),\n",
       " ('random forest', 4.995624292915001),\n",
       " ('linear reg', 4.611313081387308),\n",
       " ('xgb', 4.6897159649581015),\n",
       " ('lgbm', 4.6393937085230945)]"
      ]
     },
     "execution_count": 74,
     "metadata": {},
     "output_type": "execute_result"
    }
   ],
   "source": [
    "# Save results\n",
    "predictions = P\n",
    "results=[(model,score) for model,score in zip(my_models,my_scores)]\n",
    "results"
   ]
  },
  {
   "cell_type": "markdown",
   "metadata": {},
   "source": [
    "The results for the different ensemble methods are all shown below. Most of if it is self-explanatory and the main discussion was given upfront at the top. "
   ]
  },
  {
   "cell_type": "markdown",
   "metadata": {},
   "source": [
    "### 2.1) Averaging"
   ]
  },
  {
   "cell_type": "markdown",
   "metadata": {},
   "source": [
    "We will begin by simply averaging the predictions and add the resulting score to the results. We actually get quite a bit of improvement here, likely due to the fact that KNN predictions are so different from the others."
   ]
  },
  {
   "cell_type": "code",
   "execution_count": 75,
   "metadata": {},
   "outputs": [
    {
     "name": "stdout",
     "output_type": "stream",
     "text": [
      "Scoring models.\n",
      "Avg                       : 4.606\n"
     ]
    }
   ],
   "source": [
    "# Simple average\n",
    "AvgPred=pd.DataFrame(P.mean(axis=1),columns=['Avg'])\n",
    "my_model_avg,my_scores_avg= score_models(AvgPred, y_test)"
   ]
  },
  {
   "cell_type": "code",
   "execution_count": 76,
   "metadata": {},
   "outputs": [
    {
     "data": {
      "text/plain": [
       "[('svm', 4.792223165272498),\n",
       " ('knn', 5.302407696226023),\n",
       " ('random forest', 4.995624292915001),\n",
       " ('linear reg', 4.611313081387308),\n",
       " ('xgb', 4.6897159649581015),\n",
       " ('lgbm', 4.6393937085230945),\n",
       " ('Avg', 4.6057244568706395)]"
      ]
     },
     "execution_count": 76,
     "metadata": {},
     "output_type": "execute_result"
    }
   ],
   "source": [
    "# Save results\n",
    "results=results+[(model,score) for model,score in zip(my_model_avg,my_scores_avg)]\n",
    "predictions['Avg'] =AvgPred\n",
    "results"
   ]
  },
  {
   "cell_type": "markdown",
   "metadata": {},
   "source": [
    "### 2.2) Stacking"
   ]
  },
  {
   "cell_type": "markdown",
   "metadata": {},
   "source": [
    "Stacking does not lead to much improvement:"
   ]
  },
  {
   "cell_type": "code",
   "execution_count": 77,
   "metadata": {},
   "outputs": [
    {
     "name": "stdout",
     "output_type": "stream",
     "text": [
      "\n",
      "Fitting 2 layers\n",
      "Processing layer-1             done | 00:02:00\n",
      "Processing layer-2             done | 00:00:00\n",
      "Fit complete                        | 00:02:01\n",
      "\n",
      "Predicting 2 layers\n",
      "Processing layer-1             done | 00:00:10\n",
      "Processing layer-2             done | 00:00:00\n",
      "Predict complete                    | 00:00:11\n",
      "\n",
      "Super Learner RMSE: 4.823\n"
     ]
    }
   ],
   "source": [
    "meta_learner = ExtraTreesRegressor(\n",
    "    n_estimators=20,\n",
    "    bootstrap=True,\n",
    "    max_features=0.7\n",
    ")\n",
    "\n",
    "# Instantiate the ensemble with 5 folds (stacking meta-learner)\n",
    "sl = SuperLearner(\n",
    "    folds=5,\n",
    "    verbose=2\n",
    ")\n",
    "\n",
    "# Add the base learners and the meta learner\n",
    "sl.add(list(models.values()))\n",
    "sl.add_meta(meta_learner)\n",
    "\n",
    "# Train the ensemble\n",
    "sl.fit(X_train, y_train)\n",
    "\n",
    "# Predict the test set\n",
    "y_hat = sl.predict(X_test)\n",
    "scoreStackXtres=np.sqrt(mean_squared_error(y_test, y_hat))\n",
    "print(\"\\nSuper Learner RMSE: %.3f\" % scoreStackXtres)"
   ]
  },
  {
   "cell_type": "code",
   "execution_count": 78,
   "metadata": {},
   "outputs": [
    {
     "data": {
      "text/plain": [
       "[('svm', 4.792223165272498),\n",
       " ('knn', 5.302407696226023),\n",
       " ('random forest', 4.995624292915001),\n",
       " ('linear reg', 4.611313081387308),\n",
       " ('xgb', 4.6897159649581015),\n",
       " ('lgbm', 4.6393937085230945),\n",
       " ('Avg', 4.6057244568706395),\n",
       " ('StackingExtraTrees', 4.823039034717141)]"
      ]
     },
     "execution_count": 78,
     "metadata": {},
     "output_type": "execute_result"
    }
   ],
   "source": [
    "# Save results\n",
    "results=results+[('StackingExtraTrees',scoreStackXtres)]\n",
    "predictions['StackingExtraTrees'] = y_hat\n",
    "results"
   ]
  },
  {
   "cell_type": "markdown",
   "metadata": {},
   "source": [
    "### 2.3) Feature propagation"
   ]
  },
  {
   "cell_type": "markdown",
   "metadata": {},
   "source": [
    "Let's try to propagate the most important features (as per the random forest model):"
   ]
  },
  {
   "cell_type": "code",
   "execution_count": 79,
   "metadata": {},
   "outputs": [],
   "source": [
    "n_features = 5\n",
    "rf_features = models['random forest'].feature_importances_\n",
    "rf_features_ordered = pd.Series(data=rf_features, index=range(len(rf_features))).sort_values(ascending=False)\n",
    "to_propagate = list(rf_features_ordered[:n_features].index)\n",
    "pointer = to_propagate"
   ]
  },
  {
   "cell_type": "markdown",
   "metadata": {},
   "source": [
    "Evidently this leads to improvement with stacking:"
   ]
  },
  {
   "cell_type": "code",
   "execution_count": 80,
   "metadata": {},
   "outputs": [
    {
     "name": "stdout",
     "output_type": "stream",
     "text": [
      "\n",
      "Fitting 2 layers\n",
      "Processing layer-1             done | 00:01:32\n",
      "Processing layer-2             done | 00:00:00\n",
      "Fit complete                        | 00:01:33\n",
      "\n",
      "Predicting 2 layers\n",
      "Processing layer-1             done | 00:00:10\n",
      "Processing layer-2             done | 00:00:00\n",
      "Predict complete                    | 00:00:10\n",
      "\n",
      "Super Learner 2 RMSE: 4.831\n"
     ]
    }
   ],
   "source": [
    "sl2 = SuperLearner(\n",
    "    folds=5,\n",
    "    random_state=rand_state,\n",
    "    verbose=2\n",
    ")\n",
    "\n",
    "# Add the base learners and the meta learner\n",
    "sl2.add(list(models.values()), proba=False, propagate_features=pointer)\n",
    "sl2.add_meta(meta_learner, proba=False)\n",
    "\n",
    "# Train the ensemble\n",
    "sl2.fit(X_train, y_train)\n",
    "\n",
    "# Predict the test set\n",
    "y_hat = sl2.predict(X_test)\n",
    "scoreStackXtres2=np.sqrt(mean_squared_error(y_test, y_hat))\n",
    "print(\"\\nSuper Learner 2 RMSE: %.3f\" % scoreStackXtres2)"
   ]
  },
  {
   "cell_type": "code",
   "execution_count": 81,
   "metadata": {},
   "outputs": [
    {
     "data": {
      "text/plain": [
       "[('svm', 4.792223165272498),\n",
       " ('knn', 5.302407696226023),\n",
       " ('random forest', 4.995624292915001),\n",
       " ('linear reg', 4.611313081387308),\n",
       " ('xgb', 4.6897159649581015),\n",
       " ('lgbm', 4.6393937085230945),\n",
       " ('Avg', 4.6057244568706395),\n",
       " ('StackingExtraTrees', 4.823039034717141),\n",
       " ('StackingExtraTrees2', 4.830518248966535)]"
      ]
     },
     "execution_count": 81,
     "metadata": {},
     "output_type": "execute_result"
    }
   ],
   "source": [
    "# Save results\n",
    "results=results+[('StackingExtraTrees2',scoreStackXtres2)]\n",
    "predictions['StackingExtraTrees2'] = y_hat\n",
    "results"
   ]
  },
  {
   "cell_type": "markdown",
   "metadata": {},
   "source": [
    "### 2.4) Blending"
   ]
  },
  {
   "cell_type": "code",
   "execution_count": 82,
   "metadata": {},
   "outputs": [
    {
     "name": "stdout",
     "output_type": "stream",
     "text": [
      "\n",
      "Blend RMSE: 4.746\n"
     ]
    }
   ],
   "source": [
    "bl =  BlendEnsemble(test_size=0.2, random_state=rand_state,n_jobs=3)\n",
    "\n",
    "# Add the base learners and the meta learner\n",
    "bl.add(list(models.values()), proba=False, propagate_features=pointer)\n",
    "bl.add_meta(meta_learner, proba=False)\n",
    "\n",
    "# Train the ensemble\n",
    "bl.fit(X_train, y_train)\n",
    "\n",
    "# Predict the test set\n",
    "y_hat = bl.predict(X_test)\n",
    "scoreBlendXtrees=np.sqrt(mean_squared_error(y_test, y_hat))\n",
    "print(\"\\nBlend RMSE: %.3f\" % scoreBlendXtrees)"
   ]
  },
  {
   "cell_type": "code",
   "execution_count": 83,
   "metadata": {},
   "outputs": [
    {
     "data": {
      "text/plain": [
       "[('svm', 4.792223165272498),\n",
       " ('knn', 5.302407696226023),\n",
       " ('random forest', 4.995624292915001),\n",
       " ('linear reg', 4.611313081387308),\n",
       " ('xgb', 4.6897159649581015),\n",
       " ('lgbm', 4.6393937085230945),\n",
       " ('Avg', 4.6057244568706395),\n",
       " ('StackingExtraTrees', 4.823039034717141),\n",
       " ('StackingExtraTrees2', 4.830518248966535),\n",
       " ('BlendXtrees', 4.745918401636478)]"
      ]
     },
     "execution_count": 83,
     "metadata": {},
     "output_type": "execute_result"
    }
   ],
   "source": [
    "# Save results\n",
    "results=results+[('BlendXtrees',scoreBlendXtrees)]\n",
    "predictions['BlendXtrees'] = y_hat\n",
    "results"
   ]
  },
  {
   "cell_type": "markdown",
   "metadata": {},
   "source": [
    "### 2.5) Subsemple"
   ]
  },
  {
   "cell_type": "code",
   "execution_count": 84,
   "metadata": {},
   "outputs": [
    {
     "name": "stdout",
     "output_type": "stream",
     "text": [
      "\n",
      "SubSamble RMSE: 4.956\n"
     ]
    }
   ],
   "source": [
    "from sklearn.cluster import KMeans\n",
    "sub = Subsemble(partitions=3, folds=4,partition_estimator=KMeans(3, random_state=rand_state),\n",
    "               random_state=rand_state)\n",
    "\n",
    "sub.add(list(models.values()), proba=False, propagate_features=pointer)\n",
    "sub.add_meta(meta_learner, proba=False)\n",
    "\n",
    "# Train the ensemble\n",
    "sub.fit(X_train, y_train)\n",
    "\n",
    "# Predict the test set\n",
    "y_hat = sub.predict(X_test)\n",
    "scoreSubS=np.sqrt(mean_squared_error(y_test, y_hat))\n",
    "print(\"\\nSubSamble RMSE: %.3f\" % scoreSubS)"
   ]
  },
  {
   "cell_type": "code",
   "execution_count": 85,
   "metadata": {},
   "outputs": [
    {
     "data": {
      "text/plain": [
       "[('svm', 4.792223165272498),\n",
       " ('knn', 5.302407696226023),\n",
       " ('random forest', 4.995624292915001),\n",
       " ('linear reg', 4.611313081387308),\n",
       " ('xgb', 4.6897159649581015),\n",
       " ('lgbm', 4.6393937085230945),\n",
       " ('Avg', 4.6057244568706395),\n",
       " ('StackingExtraTrees', 4.823039034717141),\n",
       " ('StackingExtraTrees2', 4.830518248966535),\n",
       " ('BlendXtrees', 4.745918401636478),\n",
       " ('SubSambleXtrees', 4.955859754272324)]"
      ]
     },
     "execution_count": 85,
     "metadata": {},
     "output_type": "execute_result"
    }
   ],
   "source": [
    "# Save results\n",
    "results=results+[('SubSambleXtrees',scoreSubS)]\n",
    "predictions['SubSambleXtrees'] = y_hat\n",
    "results"
   ]
  },
  {
   "cell_type": "markdown",
   "metadata": {},
   "source": [
    "### 2.6) Multi-layer"
   ]
  },
  {
   "cell_type": "markdown",
   "metadata": {},
   "source": [
    "Let's define a second meta learner and run a multi-layer ensemble:"
   ]
  },
  {
   "cell_type": "code",
   "execution_count": 86,
   "metadata": {},
   "outputs": [],
   "source": [
    "meta_learner_2 = RandomForestRegressor()"
   ]
  },
  {
   "cell_type": "code",
   "execution_count": 87,
   "metadata": {},
   "outputs": [
    {
     "name": "stdout",
     "output_type": "stream",
     "text": [
      "\n",
      "Multi-Ensemble RMSE: 4.817\n"
     ]
    }
   ],
   "source": [
    "ensemble = SequentialEnsemble(random_state=rand_state)\n",
    "\n",
    "# The initial layer is a blended layer, same as a layer in the BlendEnsemble\n",
    "ensemble.add('blend',\n",
    "             list(models.values()), proba=False, propagate_features=pointer,random_state=rand_state)\n",
    "\n",
    "# The second layer is a stacked layer, same as a layer of the SuperLearner\n",
    "ensemble.add('stack', [meta_learner, meta_learner_2], proba=False,random_state=rand_state)\n",
    "\n",
    "# The third layer is a subsembled layer, same as a layer of the Subsemble\n",
    "ensemble.add('subsemble', [meta_learner, meta_learner_2], proba=False,random_state=rand_state)\n",
    "\n",
    "# The meta estimator is added as in any other ensemble\n",
    "ensemble.add_meta(LinearRegression(), proba=False)\n",
    "# Train the ensemble\n",
    "ensemble.fit(X_train, y_train)\n",
    "\n",
    "# Predict the test set\n",
    "y_hat = ensemble.predict(X_test)\n",
    "scoreMultiE=np.sqrt(mean_squared_error(y_test, y_hat))\n",
    "print(\"\\nMulti-Ensemble RMSE: %.3f\" % scoreMultiE)"
   ]
  },
  {
   "cell_type": "code",
   "execution_count": 88,
   "metadata": {},
   "outputs": [
    {
     "data": {
      "text/plain": [
       "[('svm', 4.792223165272498),\n",
       " ('knn', 5.302407696226023),\n",
       " ('random forest', 4.995624292915001),\n",
       " ('linear reg', 4.611313081387308),\n",
       " ('xgb', 4.6897159649581015),\n",
       " ('lgbm', 4.6393937085230945),\n",
       " ('Avg', 4.6057244568706395),\n",
       " ('StackingExtraTrees', 4.823039034717141),\n",
       " ('StackingExtraTrees2', 4.830518248966535),\n",
       " ('BlendXtrees', 4.745918401636478),\n",
       " ('SubSambleXtrees', 4.955859754272324),\n",
       " ('Multi-Layer', 4.817499178500809)]"
      ]
     },
     "execution_count": 88,
     "metadata": {},
     "output_type": "execute_result"
    }
   ],
   "source": [
    "# Save results\n",
    "results=results+[('Multi-Layer',scoreMultiE)]\n",
    "predictions['Multi-Layer'] = y_hat\n",
    "results"
   ]
  },
  {
   "cell_type": "markdown",
   "metadata": {
    "id": "gcxiOd9hTcEo"
   },
   "source": [
    "## 3) Model evaluation with test set\n",
    "\n"
   ]
  },
  {
   "cell_type": "code",
   "execution_count": 89,
   "metadata": {},
   "outputs": [
    {
     "data": {
      "text/html": [
       "<div>\n",
       "<style scoped>\n",
       "    .dataframe tbody tr th:only-of-type {\n",
       "        vertical-align: middle;\n",
       "    }\n",
       "\n",
       "    .dataframe tbody tr th {\n",
       "        vertical-align: top;\n",
       "    }\n",
       "\n",
       "    .dataframe thead th {\n",
       "        text-align: right;\n",
       "    }\n",
       "</style>\n",
       "<table border=\"1\" class=\"dataframe\">\n",
       "  <thead>\n",
       "    <tr style=\"text-align: right;\">\n",
       "      <th></th>\n",
       "      <th>Method</th>\n",
       "      <th>RMSE</th>\n",
       "    </tr>\n",
       "  </thead>\n",
       "  <tbody>\n",
       "    <tr>\n",
       "      <th>6</th>\n",
       "      <td>Avg</td>\n",
       "      <td>4.605724</td>\n",
       "    </tr>\n",
       "    <tr>\n",
       "      <th>3</th>\n",
       "      <td>linear reg</td>\n",
       "      <td>4.611313</td>\n",
       "    </tr>\n",
       "    <tr>\n",
       "      <th>5</th>\n",
       "      <td>lgbm</td>\n",
       "      <td>4.639394</td>\n",
       "    </tr>\n",
       "    <tr>\n",
       "      <th>4</th>\n",
       "      <td>xgb</td>\n",
       "      <td>4.689716</td>\n",
       "    </tr>\n",
       "    <tr>\n",
       "      <th>9</th>\n",
       "      <td>BlendXtrees</td>\n",
       "      <td>4.745918</td>\n",
       "    </tr>\n",
       "  </tbody>\n",
       "</table>\n",
       "</div>"
      ],
      "text/plain": [
       "        Method      RMSE\n",
       "6          Avg  4.605724\n",
       "3   linear reg  4.611313\n",
       "5         lgbm  4.639394\n",
       "4          xgb  4.689716\n",
       "9  BlendXtrees  4.745918"
      ]
     },
     "execution_count": 89,
     "metadata": {},
     "output_type": "execute_result"
    }
   ],
   "source": [
    "results_df=pd.DataFrame(results)\n",
    "results_df.columns=['Method','RMSE']\n",
    "results_df= results_df.sort_values(by='RMSE', ascending=True)\n",
    "results_df.head()"
   ]
  },
  {
   "cell_type": "code",
   "execution_count": 90,
   "metadata": {},
   "outputs": [
    {
     "data": {
      "text/plain": [
       "(4.5, 5.0)"
      ]
     },
     "execution_count": 90,
     "metadata": {},
     "output_type": "execute_result"
    },
    {
     "data": {
      "image/png": "[encoded data removed]",
      "text/plain": [
       "<Figure size 432x288 with 1 Axes>"
      ]
     },
     "metadata": {},
     "output_type": "display_data"
    }
   ],
   "source": [
    "import seaborn as sns\n",
    "import matplotlib.pyplot as plt\n",
    "\n",
    "sns.set(style=\"whitegrid\")\n",
    "ax = sns.barplot(x=\"Method\", y=\"RMSE\", data=results_df)\n",
    "ax= ax.set_xticklabels(ax.get_xticklabels(), rotation=90)\n",
    "\n",
    "plt.ylim(4.5,5)"
   ]
  },
  {
   "cell_type": "code",
   "execution_count": 91,
   "metadata": {},
   "outputs": [],
   "source": [
    "results_df = results_df.reset_index(drop=True)\n",
    "best_method = results_df.loc[0,'Method']"
   ]
  },
  {
   "cell_type": "markdown",
   "metadata": {},
   "source": [
    "## 4) Final prediction and export\n",
    "\n",
    "Finally, we can use the full training sample to fit the model and then predict from the test sample. Since averaging looks most promising I try that."
   ]
  },
  {
   "cell_type": "code",
   "execution_count": 94,
   "metadata": {},
   "outputs": [
    {
     "name": "stdout",
     "output_type": "stream",
     "text": [
      "svm... done\n",
      "knn... done\n",
      "random forest... done\n",
      "linear reg... done\n",
      "xgb... done\n",
      "lgbm... done\n",
      "Done.\n",
      "\n",
      "Scoring models.\n",
      "Avg                       : 4.606\n"
     ]
    }
   ],
   "source": [
    "y = data.loc[:,'LOS']\n",
    "X = pd.read_csv(\"../Data/los/X_preproc.csv\")\n",
    "X_test = pd.read_csv(\"../Data/los/X_test_preproc.csv\")\n",
    "y_hat_all = train_predict(models,X,y,X_test,y_test=None)\n",
    "y_hat=pd.DataFrame(y_hat_all.mean(axis=1),columns=['Avg'])\n",
    "cols,final_score= score_models(AvgPred, y_test)"
   ]
  },
  {
   "cell_type": "markdown",
   "metadata": {},
   "source": [
    "Also given the surprisingly strong performance of linear regression I give that a try too."
   ]
  },
  {
   "cell_type": "code",
   "execution_count": 95,
   "metadata": {},
   "outputs": [
    {
     "data": {
      "text/html": [
       "<div>\n",
       "<style scoped>\n",
       "    .dataframe tbody tr th:only-of-type {\n",
       "        vertical-align: middle;\n",
       "    }\n",
       "\n",
       "    .dataframe tbody tr th {\n",
       "        vertical-align: top;\n",
       "    }\n",
       "\n",
       "    .dataframe thead th {\n",
       "        text-align: right;\n",
       "    }\n",
       "</style>\n",
       "<table border=\"1\" class=\"dataframe\">\n",
       "  <thead>\n",
       "    <tr style=\"text-align: right;\">\n",
       "      <th></th>\n",
       "      <th>icustay_id</th>\n",
       "      <th>LOS</th>\n",
       "    </tr>\n",
       "  </thead>\n",
       "  <tbody>\n",
       "    <tr>\n",
       "      <th>count</th>\n",
       "      <td>5221.000000</td>\n",
       "      <td>5221.000000</td>\n",
       "    </tr>\n",
       "    <tr>\n",
       "      <th>mean</th>\n",
       "      <td>249925.293239</td>\n",
       "      <td>3.540838</td>\n",
       "    </tr>\n",
       "    <tr>\n",
       "      <th>std</th>\n",
       "      <td>28763.030681</td>\n",
       "      <td>2.126519</td>\n",
       "    </tr>\n",
       "    <tr>\n",
       "      <th>min</th>\n",
       "      <td>200011.000000</td>\n",
       "      <td>-0.012345</td>\n",
       "    </tr>\n",
       "    <tr>\n",
       "      <th>25%</th>\n",
       "      <td>225118.000000</td>\n",
       "      <td>2.156558</td>\n",
       "    </tr>\n",
       "    <tr>\n",
       "      <th>50%</th>\n",
       "      <td>249759.000000</td>\n",
       "      <td>3.010332</td>\n",
       "    </tr>\n",
       "    <tr>\n",
       "      <th>75%</th>\n",
       "      <td>274576.000000</td>\n",
       "      <td>4.370604</td>\n",
       "    </tr>\n",
       "    <tr>\n",
       "      <th>max</th>\n",
       "      <td>299979.000000</td>\n",
       "      <td>60.314885</td>\n",
       "    </tr>\n",
       "  </tbody>\n",
       "</table>\n",
       "</div>"
      ],
      "text/plain": [
       "          icustay_id          LOS\n",
       "count    5221.000000  5221.000000\n",
       "mean   249925.293239     3.540838\n",
       "std     28763.030681     2.126519\n",
       "min    200011.000000    -0.012345\n",
       "25%    225118.000000     2.156558\n",
       "50%    249759.000000     3.010332\n",
       "75%    274576.000000     4.370604\n",
       "max    299979.000000    60.314885"
      ]
     },
     "execution_count": 95,
     "metadata": {},
     "output_type": "execute_result"
    }
   ],
   "source": [
    "chosen_ensemble = 'Avg'\n",
    "data_test=pd.read_csv('../Data/mimic_test_death.csv')\n",
    "predictions = pd.DataFrame({'icustay_id': data_test.icustay_id.values, 'LOS': y_hat.Avg})\n",
    "output_name = f\"output/ensmbl_predictions_score:{final_score[0]}\" \n",
    "predictions.to_csv(output_name, index=False)\n",
    "predictions.describe()"
   ]
  },
  {
   "cell_type": "code",
   "execution_count": 102,
   "metadata": {},
   "outputs": [
    {
     "data": {
      "text/html": [
       "<div>\n",
       "<style scoped>\n",
       "    .dataframe tbody tr th:only-of-type {\n",
       "        vertical-align: middle;\n",
       "    }\n",
       "\n",
       "    .dataframe tbody tr th {\n",
       "        vertical-align: top;\n",
       "    }\n",
       "\n",
       "    .dataframe thead th {\n",
       "        text-align: right;\n",
       "    }\n",
       "</style>\n",
       "<table border=\"1\" class=\"dataframe\">\n",
       "  <thead>\n",
       "    <tr style=\"text-align: right;\">\n",
       "      <th></th>\n",
       "      <th>icustay_id</th>\n",
       "      <th>LOS</th>\n",
       "    </tr>\n",
       "  </thead>\n",
       "  <tbody>\n",
       "    <tr>\n",
       "      <th>count</th>\n",
       "      <td>5221.000000</td>\n",
       "      <td>5221.000000</td>\n",
       "    </tr>\n",
       "    <tr>\n",
       "      <th>mean</th>\n",
       "      <td>249925.293239</td>\n",
       "      <td>3.777785</td>\n",
       "    </tr>\n",
       "    <tr>\n",
       "      <th>std</th>\n",
       "      <td>28763.030681</td>\n",
       "      <td>4.891725</td>\n",
       "    </tr>\n",
       "    <tr>\n",
       "      <th>min</th>\n",
       "      <td>200011.000000</td>\n",
       "      <td>-4.231871</td>\n",
       "    </tr>\n",
       "    <tr>\n",
       "      <th>25%</th>\n",
       "      <td>225118.000000</td>\n",
       "      <td>2.256996</td>\n",
       "    </tr>\n",
       "    <tr>\n",
       "      <th>50%</th>\n",
       "      <td>249759.000000</td>\n",
       "      <td>3.398310</td>\n",
       "    </tr>\n",
       "    <tr>\n",
       "      <th>75%</th>\n",
       "      <td>274576.000000</td>\n",
       "      <td>4.900275</td>\n",
       "    </tr>\n",
       "    <tr>\n",
       "      <th>max</th>\n",
       "      <td>299979.000000</td>\n",
       "      <td>321.456777</td>\n",
       "    </tr>\n",
       "  </tbody>\n",
       "</table>\n",
       "</div>"
      ],
      "text/plain": [
       "          icustay_id          LOS\n",
       "count    5221.000000  5221.000000\n",
       "mean   249925.293239     3.777785\n",
       "std     28763.030681     4.891725\n",
       "min    200011.000000    -4.231871\n",
       "25%    225118.000000     2.256996\n",
       "50%    249759.000000     3.398310\n",
       "75%    274576.000000     4.900275\n",
       "max    299979.000000   321.456777"
      ]
     },
     "execution_count": 102,
     "metadata": {},
     "output_type": "execute_result"
    }
   ],
   "source": [
    "lin_reg = y_hat_all.loc[:,'linear reg'].values\n",
    "predictions = pd.DataFrame({'icustay_id': data_test.icustay_id.values, 'LOS': lin_reg})\n",
    "output_name = f\"output/lin_reg_predictions_score:{final_score[0]}\" \n",
    "predictions.to_csv(output_name, index=False)\n",
    "predictions.describe()"
   ]
  }
 ],
 "metadata": {
  "kernelspec": {
   "display_name": "Python 3",
   "language": "python",
   "name": "python3"
  },
  "language_info": {
   "codemirror_mode": {
    "name": "ipython",
    "version": 3
   },
   "file_extension": ".py",
   "mimetype": "text/x-python",
   "name": "python",
   "nbconvert_exporter": "python",
   "pygments_lexer": "ipython3",
   "version": "3.8.0"
  },
  "toc": {
   "base_numbering": 1,
   "nav_menu": {},
   "number_sections": true,
   "sideBar": true,
   "skip_h1_title": false,
   "title_cell": "Table of Contents",
   "title_sidebar": "Contents",
   "toc_cell": false,
   "toc_position": {},
   "toc_section_display": true,
   "toc_window_display": true
  }
 },
 "nbformat": 4,
 "nbformat_minor": 4
}
